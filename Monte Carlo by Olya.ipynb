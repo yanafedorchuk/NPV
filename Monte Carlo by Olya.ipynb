{
 "cells": [
  {
   "cell_type": "code",
   "execution_count": 1,
   "metadata": {},
   "outputs": [
    {
     "name": "stdout",
     "output_type": "stream",
     "text": [
      "344796.1010518393\n",
      "0.15331410149124514\n"
     ]
    }
   ],
   "source": [
    "import numpy as np\n",
    "import matplotlib.pyplot as plt \n",
    "\n",
    "#присваиваем переменные\n",
    "price = np.array([6, 6.05, 6.1])\n",
    "volume = np.array([802000, 967000, 1132000])\n",
    "profit = price * volume\n",
    "cost = 0.55 * profit\n",
    "gross_profit = profit - cost \n",
    "oper_cost = 0.15 * gross_profit\n",
    "net_profit = gross_profit - oper_cost \n",
    "tax = net_profit * 0.32\n",
    "cash_flow = net_profit - tax\n",
    "\n",
    "#считаем CF\n",
    "cash_flow = np.append(-3400000, cash_flow )\n",
    "\n",
    "npv = np.npv(0.1,cash_flow)\n",
    "irr = np.irr(cash_flow)\n",
    "\n",
    "print(npv)\n",
    "print(irr)"
   ]
  },
  {
   "cell_type": "code",
   "execution_count": 9,
   "metadata": {},
   "outputs": [
    {
     "name": "stdout",
     "output_type": "stream",
     "text": [
      "998775.3964872914\n",
      "4058775.3964872924\n"
     ]
    },
    {
     "data": {
      "text/plain": [
       "(array([  32.,  248.,  745., 1290., 1852., 2248., 2001., 1215.,  332.,\n",
       "          37.]), array([-679918.55483027, -512049.15969852, -344179.76456676,\n",
       "        -176310.369435  ,   -8440.97430325,  159428.42082851,\n",
       "         327297.81596027,  495167.21109202,  663036.60622378,\n",
       "         830906.00135554,  998775.39648729]), <a list of 10 Patch objects>)"
      ]
     },
     "execution_count": 9,
     "metadata": {},
     "output_type": "execute_result"
    },
    {
     "data": {
      "image/png": "[encoded data removed]",
      "text/plain": [
       "<Figure size 432x288 with 1 Axes>"
      ]
     },
     "metadata": {
      "needs_background": "light"
     },
     "output_type": "display_data"
    }
   ],
   "source": [
    "np.random.seed(0)\n",
    "nSimulatation = 10000\n",
    "\n",
    "#для price треугольное распределение\n",
    "price1 = np.random.triangular(5.9, 6, 6.1, size=nSimulatation)\n",
    "price2 = np.random.triangular(5.95, 6.05, 6.15, size=nSimulatation)\n",
    "price3 = np.random.triangular(6, 6.1, 6.2, size=nSimulatation)\n",
    "\n",
    "#для объема продаж нормальное распределение\n",
    "volume1 = np.random.normal(loc=802000 , scale=25000 , size =nSimulatation)\n",
    "volume2 = np.random.normal(loc=967000 , scale=30000 , size =nSimulatation)\n",
    "volume3 = np.random.normal(loc=1132000 , scale=25000 , size =nSimulatation)\n",
    "\n",
    "#для себестоимости треугольное распределение\n",
    "cost_per = np.random.triangular(0.5, 0.55, 0.65, size=nSimulatation)\n",
    "\n",
    "#для операционных издержек нормальное распределение\n",
    "oper_cost_per = np.random.normal(loc=0.15, scale=0.02 , size =nSimulatation)\n",
    "\n",
    "#вычисляем\n",
    "npv =[]\n",
    "irr =[]\n",
    "\n",
    "#можно попробовать переделать, чтоб убрать цикл\n",
    "for i in np.arange(nSimulatation):\n",
    "    profit1 = price1[i]*volume1[i]\n",
    "    profit2 = price2[i]*volume2[i]\n",
    "    profit3 = price3[i]*volume3[i]\n",
    "    profit = np.array([profit1, profit2, profit3])\n",
    "    cost = cost_per[i] * profit\n",
    "    gross_profit = profit - cost\n",
    "    oper_cost = oper_cost_per[i] * gross_profit\n",
    "    net_profit = gross_profit - oper_cost \n",
    "    tax = net_profit * 0.32\n",
    "    cash_flow = net_profit - tax\n",
    "    cash_flow = np.append(-3400000, cash_flow )   \n",
    "    npvv = np.npv(0.1, cash_flow)\n",
    "    irrr = np.irr(cash_flow)\n",
    "    npv.append(npvv)\n",
    "    irr.append(irrr)\n",
    "    \n",
    "#итог\n",
    "print(max(npv))\n",
    "\n",
    "#без цикла\n",
    "npv1 = []\n",
    "npv1 = {np.npv(0.1, np.append(-340000, 0.68*(1 - oper_cost_per[i])*(1 - cost_per[i])*np.array([price1[i]*volume1[i], price2[i]*volume2[i], price3[i]*volume3[i]]))) for i in np.arange(10000)}     \n",
    "\n",
    "\n",
    "\n",
    "print(max(npv1))\n",
    "\n",
    "#графики\n",
    "plt.hist(npv)"
   ]
  },
  {
   "cell_type": "code",
   "execution_count": 3,
   "metadata": {},
   "outputs": [
    {
     "data": {
      "text/plain": [
       "(array([  25.,  193.,  633., 1135., 1714., 2235., 2191., 1410.,  421.,\n",
       "          43.]),\n",
       " array([-0.01209581,  0.01414808,  0.04039196,  0.06663585,  0.09287974,\n",
       "         0.11912363,  0.14536752,  0.17161141,  0.1978553 ,  0.22409918,\n",
       "         0.25034307]),\n",
       " <a list of 10 Patch objects>)"
      ]
     },
     "execution_count": 3,
     "metadata": {},
     "output_type": "execute_result"
    },
    {
     "data": {
      "image/png": "[encoded data removed]",
      "text/plain": [
       "<Figure size 432x288 with 1 Axes>"
      ]
     },
     "metadata": {
      "needs_background": "light"
     },
     "output_type": "display_data"
    }
   ],
   "source": [
    "plt.hist(irr)"
   ]
  },
  {
   "cell_type": "code",
   "execution_count": 4,
   "metadata": {},
   "outputs": [
    {
     "data": {
      "text/plain": [
       "{'whiskers': [<matplotlib.lines.Line2D at 0x1b8748a5f60>,\n",
       "  <matplotlib.lines.Line2D at 0x1b8748b43c8>],\n",
       " 'caps': [<matplotlib.lines.Line2D at 0x1b8748b47f0>,\n",
       "  <matplotlib.lines.Line2D at 0x1b8748b4c18>],\n",
       " 'boxes': [<matplotlib.lines.Line2D at 0x1b8748a59e8>],\n",
       " 'medians': [<matplotlib.lines.Line2D at 0x1b8748b4cf8>],\n",
       " 'fliers': [<matplotlib.lines.Line2D at 0x1b8748bb4a8>],\n",
       " 'means': []}"
      ]
     },
     "execution_count": 4,
     "metadata": {},
     "output_type": "execute_result"
    },
    {
     "data": {
      "image/png": "[encoded data removed]",
      "text/plain": [
       "<Figure size 432x288 with 1 Axes>"
      ]
     },
     "metadata": {
      "needs_background": "light"
     },
     "output_type": "display_data"
    }
   ],
   "source": [
    "plt.boxplot(npv)"
   ]
  },
  {
   "cell_type": "code",
   "execution_count": 5,
   "metadata": {},
   "outputs": [
    {
     "data": {
      "text/plain": [
       "{'whiskers': [<matplotlib.lines.Line2D at 0x1b874905da0>,\n",
       "  <matplotlib.lines.Line2D at 0x1b874905e80>],\n",
       " 'caps': [<matplotlib.lines.Line2D at 0x1b87490e630>,\n",
       "  <matplotlib.lines.Line2D at 0x1b87490ea58>],\n",
       " 'boxes': [<matplotlib.lines.Line2D at 0x1b874905860>],\n",
       " 'medians': [<matplotlib.lines.Line2D at 0x1b87490ee80>],\n",
       " 'fliers': [<matplotlib.lines.Line2D at 0x1b87490ef60>],\n",
       " 'means': []}"
      ]
     },
     "execution_count": 5,
     "metadata": {},
     "output_type": "execute_result"
    },
    {
     "data": {
      "image/png": "[encoded data removed]",
      "text/plain": [
       "<Figure size 432x288 with 1 Axes>"
      ]
     },
     "metadata": {
      "needs_background": "light"
     },
     "output_type": "display_data"
    }
   ],
   "source": [
    "plt.boxplot(irr)"
   ]
  },
  {
   "cell_type": "code",
   "execution_count": 6,
   "metadata": {},
   "outputs": [
    {
     "data": {
      "text/plain": [
       "4058775.3964872924"
      ]
     },
     "execution_count": 6,
     "metadata": {},
     "output_type": "execute_result"
    }
   ],
   "source": [
    "npv = {np.npv(0.1, np.append(-340000, 0.68*(1 - oper_cost_per[i])*(1 - cost_per[i])*np.array([price1[i]*volume1[i], price2[i]*volume2[i], price3[i]*volume3[i]]))) for i in np.arange(nSimulatation)}     \n",
    "\n",
    "max(npv)"
   ]
  },
  {
   "cell_type": "code",
   "execution_count": 7,
   "metadata": {},
   "outputs": [
    {
     "name": "stdout",
     "output_type": "stream",
     "text": [
      "{5, 6, 7, 8, 9}\n"
     ]
    }
   ],
   "source": [
    "x=5\n",
    "x = {x + i for i in np.arange(5)}\n",
    "\n",
    "print(x)"
   ]
  },
  {
   "cell_type": "code",
   "execution_count": null,
   "metadata": {},
   "outputs": [],
   "source": []
  }
 ],
 "metadata": {
  "kernelspec": {
   "display_name": "Python 3",
   "language": "python",
   "name": "python3"
  },
  "language_info": {
   "codemirror_mode": {
    "name": "ipython",
    "version": 3
   },
   "file_extension": ".py",
   "mimetype": "text/x-python",
   "name": "python",
   "nbconvert_exporter": "python",
   "pygments_lexer": "ipython3",
   "version": "3.7.0"
  }
 },
 "nbformat": 4,
 "nbformat_minor": 2
}
